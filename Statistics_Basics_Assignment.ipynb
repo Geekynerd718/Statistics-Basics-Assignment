{
  "nbformat": 4,
  "nbformat_minor": 0,
  "metadata": {
    "colab": {
      "provenance": []
    },
    "kernelspec": {
      "name": "python3",
      "display_name": "Python 3"
    },
    "language_info": {
      "name": "python"
    }
  },
  "cells": [
    {
      "cell_type": "markdown",
      "source": [
        "# Theory Questions"
      ],
      "metadata": {
        "id": "t6KQmZFq0vtR"
      }
    },
    {
      "cell_type": "markdown",
      "source": [
        "Q.1 - What is statistics, and why is it important?\n",
        "\n",
        "Ans - Statistics is the science of collecting, organizing, analyzing, and interpreting data. It provides methods for drawing meaningful conclusions from raw information, allowing us to understand trends, make predictions, and inform decision-making.\n",
        "\n",
        "### Why is statistics important?\n",
        "1. **Decision-Making** – Whether in business, healthcare, or research, statistics helps guide decisions based on data rather than intuition.\n",
        "2. **Data Analysis** – It enables us to process and summarize large amounts of information effectively.\n",
        "3. **Prediction & Modeling** – From stock market forecasting to machine learning, statistics plays a crucial role in predicting future trends.\n",
        "4. **Scientific Research** – Experiments and studies rely on statistical methods to validate findings and measure reliability.\n",
        "5. **Quality Control** – Industries use statistical techniques to maintain standards and improve production efficiency.\n",
        "6. **Understanding Uncertainty** – Statistics helps quantify uncertainty and risk, making informed choices possible.\n"
      ],
      "metadata": {
        "id": "Kj04GLXR0xW_"
      }
    },
    {
      "cell_type": "markdown",
      "source": [
        "Q.2 - What are the two main types of statistics?\n",
        "\n",
        "Ans - The two main types of statistics are:\n",
        "\n",
        "1. **Descriptive Statistics** – This type summarizes and organizes data to make it easier to understand. It includes measures like:\n",
        "   - **Central Tendency**: Mean, median, and mode (used to describe the center of the data).\n",
        "   - **Dispersion**: Range, variance, and standard deviation (used to understand data spread).\n",
        "   - **Visualization**: Graphs like histograms, bar plots, and scatter plots to represent data visually.\n",
        "\n",
        "2. **Inferential Statistics** – This type involves drawing conclusions about a larger population based on a sample. Key concepts include:\n",
        "   - **Hypothesis Testing**: Determining if a claim about a dataset is statistically significant.\n",
        "   - **Confidence Intervals**: Estimating a population parameter with a certain degree of confidence.\n",
        "   - **Regression Analysis**: Finding relationships between variables.\n",
        "   - **Probability Distributions**: Understanding patterns in data."
      ],
      "metadata": {
        "id": "T7YJ3l_l1G3h"
      }
    },
    {
      "cell_type": "markdown",
      "source": [
        "Q.3 - What are descriptive statistics?\n",
        "\n",
        "Ans - Descriptive statistics help summarize and explain the essential characteristics of a dataset. Instead of making predictions or drawing conclusions about a larger population, they focus on organizing and presenting data in a meaningful way.\n",
        "\n",
        "### Key Components of Descriptive Statistics:\n",
        "1. **Measures of Central Tendency** – These describe the center of the data:\n",
        "   - **Mean** – The average value.\n",
        "   - **Median** – The middle value when sorted.\n",
        "   - **Mode** – The most frequently occurring value.\n",
        "\n",
        "2. **Measures of Dispersion** – These show the spread of the data:\n",
        "   - **Range** – Difference between the highest and lowest values.\n",
        "   - **Variance** – Measures how far values deviate from the mean.\n",
        "   - **Standard Deviation** – Indicates overall data variability.\n",
        "\n",
        "3. **Distribution Shape** – Understanding data patterns:\n",
        "   - **Skewness** – Determines if the data is asymmetrical (left or right skewed).\n",
        "   - **Kurtosis** – Measures whether the distribution is flat or peaked.\n",
        "\n",
        "4. **Visualization Tools** – Graphs that help interpret data visually:\n",
        "   - **Histograms** – Show frequency distribution.\n",
        "   - **Box Plots** – Identify outliers and spread.\n",
        "   - **Scatter Plots** – Show relationships between variables."
      ],
      "metadata": {
        "id": "0F2UyRUm1bt0"
      }
    },
    {
      "cell_type": "markdown",
      "source": [
        "Q.4 - What is inferential statistics?\n",
        "\n",
        "Ans - Inferential statistics is the branch of statistics that allows us to make conclusions or predictions about a larger population based on data from a sample. Instead of simply describing data (as in **descriptive statistics**), it helps us test hypotheses, estimate parameters, and determine relationships between variables.\n",
        "\n",
        "### Key Concepts in Inferential Statistics:\n",
        "1. **Hypothesis Testing** – Used to determine if a claim about a dataset is statistically valid.\n",
        "   - Example: Testing if a new drug is more effective than an existing one.\n",
        "   - Common tests: t-test, chi-square test, ANOVA.\n",
        "\n",
        "2. **Confidence Intervals** – A range of values that estimate a population parameter with a certain level of confidence.\n",
        "   - Example: “We estimate the average height of adults in India to be 5'5\", with a 95% confidence interval between 5'4\" and 5'6\".”\n",
        "\n",
        "3. **Regression Analysis** – Helps identify relationships between variables.\n",
        "   - Example: Predicting house prices based on square footage and location.\n",
        "   - Methods: Linear regression, logistic regression.\n",
        "\n",
        "4. **Probability Distributions** – Models patterns in data.\n",
        "   - Example: Normal distribution (bell curve) in test scores.\n",
        "   - Other distributions: Binomial, Poisson, Exponential."
      ],
      "metadata": {
        "id": "u--th4HM1pd_"
      }
    },
    {
      "cell_type": "markdown",
      "source": [
        "Q.5 - What is sampling in statistics?\n",
        "\n",
        "Ans - Sampling in statistics is the process of selecting a subset of individuals or data points from a larger population to analyze and make inferences about the whole. Since studying an entire population is often impractical, sampling helps researchers gain insights efficiently.\n",
        "\n",
        "There are different sampling methods, including:\n",
        "- **Random Sampling**: Every member of the population has an equal chance of being selected.\n",
        "- **Stratified Sampling**: The population is divided into subgroups (strata), and samples are taken from each.\n",
        "- **Cluster Sampling**: The population is divided into clusters, and entire clusters are sampled.\n",
        "- **Systematic Sampling**: Samples are taken at regular intervals (e.g., every 10th person in a list).\n",
        "- **Convenience Sampling**: Samples are chosen based on ease of access rather than randomness."
      ],
      "metadata": {
        "id": "3r1W1rP713o3"
      }
    },
    {
      "cell_type": "markdown",
      "source": [
        "Q.6 What are the different types of sampling methods?\n",
        "\n",
        "Ans - There are several types of sampling methods, broadly categorized into **probability sampling** and **non-probability sampling**. Here's a breakdown:\n",
        "\n",
        "### **Probability Sampling** (Each member has a known chance of being selected)\n",
        "1. **Simple Random Sampling** – Every individual in the population has an equal chance of selection. (e.g., selecting names from a hat)\n",
        "2. **Stratified Sampling** – The population is divided into homogeneous subgroups (strata), and samples are taken from each group proportionally.\n",
        "3. **Cluster Sampling** – The population is divided into clusters, and entire clusters are randomly selected for sampling.\n",
        "4. **Systematic Sampling** – A sample is chosen at regular intervals from a sorted list (e.g., every 10th person from a database).\n",
        "5. **Multistage Sampling** – A combination of different probability sampling techniques, often used in large surveys.\n",
        "\n",
        "### **Non-Probability Sampling** (Selection is based on subjective criteria or convenience)\n",
        "1. **Convenience Sampling** – Samples are taken from easily accessible members of the population.\n",
        "2. **Quota Sampling** – Similar to stratified sampling, but selection is non-random within strata.\n",
        "3. **Purposive Sampling** – Specific individuals are selected based on predefined criteria (e.g., experts in a field).\n",
        "4. **Snowball Sampling** – Existing participants recruit others into the sample, useful for hard-to-reach populations.\n"
      ],
      "metadata": {
        "id": "xCwkzZzX_G3S"
      }
    },
    {
      "cell_type": "markdown",
      "source": [
        "Q.7 What is the difference between random and non-random sampling?\n",
        "\n",
        "Ans - The key difference between **random sampling** and **non-random sampling** lies in how the sample is selected and its impact on statistical validity.\n",
        "\n",
        "### **Random Sampling**\n",
        "- **Definition**: Every individual in the population has an equal and known chance of being selected.\n",
        "- **Methods**: Simple random sampling, stratified sampling, cluster sampling, systematic sampling.\n",
        "- **Advantages**:\n",
        "  - Minimizes bias.\n",
        "  - Ensures a representative sample.\n",
        "  - Suitable for statistical inference.\n",
        "- **Example**: Selecting students from a university **using a lottery system**.\n",
        "\n",
        "### **Non-Random Sampling**\n",
        "- **Definition**: Individuals are chosen based on convenience, judgment, or accessibility rather than chance.\n",
        "- **Methods**: Convenience sampling, quota sampling, purposive sampling, snowball sampling.\n",
        "- **Advantages**:\n",
        "  - Easier and faster to conduct.\n",
        "  - Useful when a full population list is unavailable.\n",
        "  - Beneficial for exploratory research.\n",
        "- **Example**: Surveying people **in a mall** because they are easily accessible.\n",
        "\n",
        "### **Key Distinction**\n",
        "- Random sampling leads to **unbiased, generalizable results**, making it ideal for statistical analysis.\n",
        "- Non-random sampling is **subject to bias**, limiting the ability to make broad conclusions but useful for targeted studies.\n"
      ],
      "metadata": {
        "id": "O3UArV7y_XYX"
      }
    },
    {
      "cell_type": "markdown",
      "source": [
        "Q.8 Define and give examples of qualitative and quantitative data.\n",
        "\n",
        "Ans - In statistics and data analysis, data is classified into **qualitative** and **quantitative** based on its nature.\n",
        "\n",
        "### **1. Qualitative Data (Categorical Data)**\n",
        "- **Definition**: Describes qualities, characteristics, or categories that can't be measured numerically.\n",
        "- **Example Characteristics**:\n",
        "  - Descriptive or subjective.\n",
        "  - Can be grouped but not counted meaningfully.\n",
        "  - Usually represented as labels or names.\n",
        "\n",
        "- **Examples**:\n",
        "  - **Colors** of cars in a parking lot (red, blue, black).\n",
        "  - **Movie genres** (comedy, action, horror).\n",
        "  - **Customer feedback** on a product (satisfactory, excellent, poor).\n",
        "  - **Types of Python libraries** used in a project (Pandas, NumPy, Matplotlib).\n",
        "\n",
        "### **2. Quantitative Data (Numerical Data)**\n",
        "- **Definition**: Represents measurable quantities that can be counted or expressed with numbers.\n",
        "- **Example Characteristics**:\n",
        "  - Can be counted or measured.\n",
        "  - Can be used for mathematical operations.\n",
        "  - Divided into **discrete** and **continuous** types:\n",
        "    - **Discrete**: Whole numbers (e.g., number of students in a class).\n",
        "    - **Continuous**: Any value within a range (e.g., temperature in Celsius).\n",
        "\n",
        "- **Examples**:\n",
        "  - **Number of products sold** in a store.\n",
        "  - **Age of individuals** in a survey.\n",
        "  - **Memory usage in a Python program** (in MB or GB).\n",
        "  - **Execution time of an algorithm** in seconds."
      ],
      "metadata": {
        "id": "oACB8f-8_kvP"
      }
    },
    {
      "cell_type": "markdown",
      "source": [
        "Q.9 What are the different types of data in statistics?\n",
        "\n",
        "Ans - In statistics, data is categorized into **different types** based on its nature and usage. The main classifications are:\n",
        "\n",
        "### **1. Qualitative Data (Categorical Data)**\n",
        "- **Definition**: Describes attributes, qualities, or categories that cannot be measured numerically.\n",
        "- **Types**:\n",
        "  - **Nominal Data** – No natural order (e.g., colors, brands, gender).\n",
        "  - **Ordinal Data** – Has a meaningful order but no precise difference (e.g., survey ratings: poor, average, good).\n",
        "- **Example**: Movie genres (action, comedy, drama), feedback levels (low, medium, high).\n",
        "\n",
        "### **2. Quantitative Data (Numerical Data)**\n",
        "- **Definition**: Represents measurable quantities with numerical values.\n",
        "- **Types**:\n",
        "  - **Discrete Data** – Countable whole numbers (e.g., number of students in a class).\n",
        "  - **Continuous Data** – Can take any value within a range (e.g., temperature, height).\n",
        "- **Example**: Stock prices, execution time of a Python script, memory usage of an algorithm.\n",
        "\n"
      ],
      "metadata": {
        "id": "GWhSgPcE_y6P"
      }
    },
    {
      "cell_type": "markdown",
      "source": [
        "Q.10 Explain nominal, ordinal, interval, and ratio levels of measurement.\n",
        "\n",
        "Ans - The **four levels of measurement** in statistics help define how data is categorized and analyzed. Each level has different mathematical properties and influences the type of statistical tests that can be applied.\n",
        "\n",
        "### **1. Nominal Level (Categorical, No Order)**\n",
        "- **Definition**: Data consists of names, labels, or categories without any inherent ranking.\n",
        "- **Example**:\n",
        "  - Movie genres: Action, Drama, Comedy.\n",
        "  - Types of programming languages: Python, Java, C++.\n",
        "  - Car brands: Toyota, Ford, BMW.\n",
        "- **Operations Possible**: **Counting** and **categorization** (no meaningful numerical operations).\n",
        "\n",
        "### **2. Ordinal Level (Categorical, Ordered)**\n",
        "- **Definition**: Data has a meaningful order, but the differences between categories aren’t precisely measurable.\n",
        "- **Example**:\n",
        "  - Ratings: Poor, Average, Good, Excellent.\n",
        "  - Education levels: High School, Bachelor’s, Master’s, PhD.\n",
        "  - Ranking in a competition: 1st, 2nd, 3rd.\n",
        "- **Operations Possible**: **Ordering** but no mathematical operations on the differences.\n",
        "\n",
        "### **3. Interval Level (Numerical, No True Zero)**\n",
        "- **Definition**: Data has meaningful differences between values but **no true zero point** (meaning ratios don’t make sense).\n",
        "- **Example**:\n",
        "  - Temperature in Celsius or Fahrenheit (0°C doesn’t mean “no temperature”).\n",
        "  - Years on a calendar (2000 is not \"twice\" as old as 1000).\n",
        "  - IQ scores.\n",
        "- **Operations Possible**: **Addition and subtraction**, but not meaningful division or multiplication.\n",
        "\n",
        "### **4. Ratio Level (Numerical, True Zero Exists)**\n",
        "- **Definition**: Data has a **true zero**, allowing all arithmetic operations, including meaningful ratios.\n",
        "- **Example**:\n",
        "  - Height and weight (0kg means no weight, 10kg is twice 5kg).\n",
        "  - Age (a 40-year-old is twice as old as a 20-year-old).\n",
        "  - Memory usage in a Python program (0 MB means no usage).\n",
        "- **Operations Possible**: **All mathematical operations**, including ratios.\n"
      ],
      "metadata": {
        "id": "5EbfNA7g_-nr"
      }
    },
    {
      "cell_type": "markdown",
      "source": [
        "Q.11 What is the measure of central tendency?\n",
        "\n",
        "Ans - The **measure of central tendency** refers to statistical methods used to find the central or \"typical\" value in a dataset. These measures help summarize a dataset with a single representative number.\n",
        "\n",
        "### **Types of Central Tendency Measures**\n",
        "1. **Mean (Average)**\n",
        "   - **Definition**: The sum of all values divided by the number of values.\n",
        "   - **Example**: If you have numbers **(5, 10, 15)**, the mean is **(5+10+15)/3 = 10**.\n",
        "   - **Best Used For**: Continuous data with no extreme outliers.\n",
        "\n",
        "2. **Median**\n",
        "   - **Definition**: The middle value when data is sorted.\n",
        "   - **Example**: For **(5, 10, 15, 20, 25)**, the median is **15**.\n",
        "   - **Best Used For**: Data with skewed distribution or outliers.\n",
        "\n",
        "3. **Mode**\n",
        "   - **Definition**: The most frequently occurring value in a dataset.\n",
        "   - **Example**: For **(2, 3, 3, 4, 5, 3, 6)**, the mode is **3**.\n",
        "   - **Best Used For**: Categorical data or identifying common trends.\n",
        "\n",
        "### **Choosing the Right Measure**\n",
        "- **Mean** is ideal for normal distributions.\n",
        "- **Median** is better for skewed distributions or when dealing with income/salaries.\n",
        "- **Mode** is useful when identifying trends in categorical data (e.g., most popular product sold)."
      ],
      "metadata": {
        "id": "EJwSuPrQAI5G"
      }
    },
    {
      "cell_type": "markdown",
      "source": [
        "Q.12 Define mean, median, and mode.\n",
        "\n",
        "Ans - ### **Mean, Median, and Mode: Measures of Central Tendency**\n",
        "\n",
        "These three statistical measures help summarize a dataset by identifying a central value.\n",
        "\n",
        "1. **Mean (Average)**\n",
        "   - **Definition**: The sum of all values divided by the total number of values.\n",
        "   - **Formula**: \\( \\text{Mean} = \\frac{\\sum X}{N} \\) (where \\( X \\) represents values and \\( N \\) is the count of values).\n",
        "   - **Example**: If scores are **(10, 20, 30, 40, 50)**, the mean is:\n",
        "     \\[\n",
        "     \\frac{10 + 20 + 30 + 40 + 50}{5} = 30\n",
        "     \\]\n",
        "   - **Best Used For**: Normally distributed data without extreme values.\n",
        "\n",
        "2. **Median (Middle Value)**\n",
        "   - **Definition**: The middle value in a sorted dataset.\n",
        "   - **Example**:\n",
        "     - **Odd number of values**: (5, 10, **15**, 20, 25) → Median is **15**.\n",
        "     - **Even number of values**: (5, 10, 15, 20, **25, 30**) → Median is \\( \\frac{20 + 25}{2} = 22.5 \\).\n",
        "   - **Best Used For**: Skewed distributions or datasets with outliers.\n",
        "\n",
        "3. **Mode (Most Frequent Value)**\n",
        "   - **Definition**: The value that appears most frequently in a dataset.\n",
        "   - **Example**: (2, 3, 3, 4, 5, 3, 6) → Mode is **3** (appears most often).\n",
        "   - **Best Used For**: Categorical or frequently occurring values.\n"
      ],
      "metadata": {
        "id": "c5bQCLOYASnQ"
      }
    },
    {
      "cell_type": "markdown",
      "source": [
        "Q.13 What is the significance of the measure of central tendency?\n",
        "\n",
        "Ans - The **measure of central tendency** is fundamental in statistics and data analysis because it provides a summary statistic that represents the center or typical value of a dataset. Here’s why it’s significant:\n",
        "\n",
        "### **1. Simplifies Data Interpretation**\n",
        "   - Large datasets can be overwhelming, but central tendency helps identify a single representative value.\n",
        "   - For example, knowing the **average salary** in a company gives a quick sense of employee compensation.\n",
        "\n",
        "### **2. Supports Decision-Making**\n",
        "   - Businesses, researchers, and policymakers use central tendency measures to make informed decisions.\n",
        "   - Example: A company analyzing **average product ratings** to gauge customer satisfaction.\n",
        "\n",
        "### **3. Helps Compare and Analyze Trends**\n",
        "   - Mean, median, and mode allow easy comparisons between different datasets or time periods.\n",
        "   - Example: Comparing the **average test scores** of students across different years.\n",
        "\n",
        "### **4. Identifies Data Distribution and Skewness**\n",
        "   - **Mean** is useful for normally distributed data.\n",
        "   - **Median** is robust against skewed data and outliers.\n",
        "   - **Mode** helps understand the frequency of occurrences.\n",
        "   - Example: A **median income** analysis can reveal wage inequality.\n",
        "\n",
        "### **5. Crucial for Statistical Analysis and Machine Learning**\n",
        "   - Many algorithms and models rely on central tendency measures for preprocessing and feature scaling.\n",
        "   - Example: Standardizing numerical features in **machine learning models**."
      ],
      "metadata": {
        "id": "eFYYcvwjAzOY"
      }
    },
    {
      "cell_type": "markdown",
      "source": [
        "Q.14 What is variance, and how is it calculated?\n",
        "\n",
        "Ans - ### **Variance: Measuring Data Spread**\n",
        "Variance is a statistical measure that quantifies how much individual data points differ from the **mean** of a dataset. It helps determine how spread out the values are—whether they are clustered closely or widely dispersed.\n",
        "\n",
        "### **Formula for Variance**\n",
        "Variance (\\(\\sigma^2\\)) is calculated as:\n",
        "\\[\n",
        "\\sigma^2 = \\frac{\\sum (X - \\bar{X})^2}{N}\n",
        "\\]\n",
        "Where:\n",
        "- \\(X\\) = each data point\n",
        "- \\(\\bar{X}\\) = mean of the dataset\n",
        "- \\(N\\) = total number of observations\n",
        "\n",
        "### **Step-by-Step Calculation**\n",
        "1. Find the **mean** of the dataset.\n",
        "2. Subtract the mean from each data point.\n",
        "3. Square each difference.\n",
        "4. Find the average of these squared differences.\n",
        "\n",
        "### **Example Calculation**\n",
        "For a dataset: **(4, 8, 6, 5, 3)**\n",
        "1. **Mean** = \\( \\frac{4+8+6+5+3}{5} = 5.2 \\)\n",
        "2. Differences: \\( (4-5.2), (8-5.2), (6-5.2), (5-5.2), (3-5.2) \\)\n",
        "   → \\( (-1.2, 2.8, 0.8, -0.2, -2.2) \\)\n",
        "3. Squared differences: \\( (1.44, 7.84, 0.64, 0.04, 4.84) \\)\n",
        "4. Variance = \\( \\frac{1.44+7.84+0.64+0.04+4.84}{5} = 2.76 \\)\n",
        "\n"
      ],
      "metadata": {
        "id": "Tr4f2rN2A8zp"
      }
    },
    {
      "cell_type": "markdown",
      "source": [
        "Q.15 What is standard deviation, and why is it important?\n",
        "\n",
        "Ans - ### **Standard Deviation: Understanding Data Spread**\n",
        "Standard deviation (\\(\\sigma\\)) is a key statistical measure that indicates how much data values deviate from the **mean**. It shows whether data points are **closely clustered** around the mean or **widely spread**.\n",
        "\n",
        "### **Formula**\n",
        "\\[\n",
        "\\sigma = \\sqrt{\\frac{\\sum (X - \\bar{X})^2}{N}}\n",
        "\\]\n",
        "Where:\n",
        "- \\(X\\) = individual data points\n",
        "- \\(\\bar{X}\\) = mean of the dataset\n",
        "- \\(N\\) = total number of observations\n",
        "\n",
        "### **Why is it Important?**\n",
        "1. **Measures Variability**\n",
        "   - A **low standard deviation** means values are **close to the mean** (less spread).\n",
        "   - A **high standard deviation** means values are **widely spread out** (more variability).\n",
        "  \n",
        "2. **Identifies Outliers**\n",
        "   - Helps detect extreme values in a dataset.\n",
        "   - Useful for **quality control and anomaly detection** in business and science.\n",
        "\n",
        "3. **Compares Distributions**\n",
        "   - Different datasets may have the same **mean** but different **standard deviations**, affecting interpretation.\n",
        "   - Example: Two companies may have the same **average revenue**, but one has **higher fluctuations**.\n",
        "\n",
        "4. **Used in Probability & Machine Learning**\n",
        "   - In normal distributions, **68% of values** lie within **1 standard deviation** of the mean.\n",
        "   - Essential for **data preprocessing** in machine learning.\n"
      ],
      "metadata": {
        "id": "TLwB9U13BW9T"
      }
    },
    {
      "cell_type": "markdown",
      "source": [
        "Q.16 Define and explain the term range in statistics.\n",
        "\n",
        "Ans - ### **Range in Statistics: Definition & Importance**\n",
        "The **range** in statistics is a measure of how spread out values are in a dataset. It represents the **difference between the highest and lowest values** in the dataset.\n",
        "\n",
        "### **Formula for Range**\n",
        "\\[\n",
        "\\text{Range} = \\text{Maximum Value} - \\text{Minimum Value}\n",
        "\\]\n",
        "\n",
        "### **Example Calculation**\n",
        "For a dataset: **(3, 7, 15, 21, 28)**\n",
        "- Maximum value = **28**\n",
        "- Minimum value = **3**\n",
        "- **Range** = \\( 28 - 3 = 25 \\)\n",
        "\n",
        "### **Why is Range Important?**\n",
        "1. **Shows Data Spread** – A large range indicates high variability, while a small range suggests consistency.\n",
        "2. **Quick Comparison Tool** – Helps compare different datasets without detailed analysis.\n",
        "3. **Foundation for Other Metrics** – Used in calculating standard deviation and interquartile range.\n",
        "\n",
        "### **Limitations of Range**\n",
        "- **Sensitive to Outliers** – A single extreme value can drastically affect the range.\n",
        "- **Doesn't Show Distribution** – It doesn’t indicate how values are spread within the dataset.\n",
        "\n",
        "\n"
      ],
      "metadata": {
        "id": "wIciN9QBBqe-"
      }
    },
    {
      "cell_type": "markdown",
      "source": [
        "Q.17 What is the difference between variance and standard deviation?\n",
        "\n",
        "Ans - ### **Variance vs. Standard Deviation: Understanding the Difference**\n",
        "Both **variance** and **standard deviation** measure how spread out the values in a dataset are, but they differ in their interpretation and mathematical treatment.\n",
        "\n",
        "### **1. Variance (σ²)**\n",
        "- **Definition**: The average of the squared differences from the mean.\n",
        "- **Formula**:\n",
        "  \\[\n",
        "  \\sigma^2 = \\frac{\\sum (X - \\bar{X})^2}{N}\n",
        "  \\]\n",
        "- **Key Characteristics**:\n",
        "  - Measures variability in squared units.\n",
        "  - More useful for theoretical statistics.\n",
        "  - Can be difficult to interpret due to squared values.\n",
        "\n",
        "### **2. Standard Deviation (σ)**\n",
        "- **Definition**: The square root of the variance, making it easier to interpret in the same units as the data.\n",
        "- **Formula**:\n",
        "  \\[\n",
        "  \\sigma = \\sqrt{\\sigma^2}\n",
        "  \\]\n",
        "- **Key Characteristics**:\n",
        "  - More practical for real-world applications.\n",
        "  - Expressed in the same unit as the original data.\n",
        "  - Preferred for analyzing data spread in reports and analytics.\n",
        "\n",
        "### **Key Difference**\n",
        "- **Variance** gives the **spread in squared units**, while **standard deviation** converts it back to the original units, making interpretation easier.\n",
        "- Standard deviation is commonly used in **data science, finance, and quality control** due to its intuitive nature.\n"
      ],
      "metadata": {
        "id": "uj4TzfvIB6lj"
      }
    },
    {
      "cell_type": "markdown",
      "source": [
        "Q.18 What is skewness in a dataset?\n",
        "\n",
        "Ans - ### **Skewness in a Dataset: Understanding Data Distribution**\n",
        "Skewness is a statistical measure that describes the **asymmetry** of a dataset’s distribution. It indicates whether data is **symmetrically distributed** or **leans more toward one side**.\n",
        "\n",
        "### **Types of Skewness**\n",
        "1. **Positive Skew (Right-Skewed)**\n",
        "   - **Definition**: The **right tail** of the distribution is longer; most values are concentrated on the left.\n",
        "   - **Example**: Income distribution (a few people earn significantly more than the majority).\n",
        "   - **Implication**: Mean > Median > Mode.\n",
        "\n",
        "2. **Negative Skew (Left-Skewed)**\n",
        "   - **Definition**: The **left tail** is longer; most values are concentrated on the right.\n",
        "   - **Example**: Exam scores where most students score high, but a few score very low.\n",
        "   - **Implication**: Mean < Median < Mode.\n",
        "\n",
        "3. **Zero Skew (Symmetrical Distribution)**\n",
        "   - **Definition**: Data is evenly spread around the mean.\n",
        "   - **Example**: Normally distributed data (e.g., heights of adults).\n",
        "   - **Implication**: Mean = Median = Mode.\n",
        "\n"
      ],
      "metadata": {
        "id": "OktwHRKxCKYS"
      }
    },
    {
      "cell_type": "markdown",
      "source": [
        "Q.19 What does it mean if a dataset is positively or negatively skewed?\n",
        "\n",
        "Ans - ### **Understanding Positive and Negative Skewness in a Dataset**\n",
        "Skewness describes the **asymmetry** of a dataset’s distribution. It tells us whether data values are spread **evenly around the mean** or **lean more towards one side**.\n",
        "\n",
        "### **1. Positively Skewed (Right-Skewed)**\n",
        "- **Definition**: The distribution has a **longer right tail**, meaning most values are **clustered on the left** with a few extreme values on the right.\n",
        "- **Implications**:\n",
        "  - **Mean > Median > Mode** (The mean is pulled toward the higher values).\n",
        "  - There are a few **large outliers** pushing the mean higher.\n",
        "- **Example**:\n",
        "  - **Income distribution** (most people earn lower wages, but a few earn very high salaries).\n",
        "  - **Execution time of algorithms** (most tasks are completed quickly, but a few take much longer).\n",
        "- **Effect in Analysis**:\n",
        "  - Mean **overestimates** the central tendency.\n",
        "  - The **median is a better choice** for summarizing data.\n",
        "\n",
        "### **2. Negatively Skewed (Left-Skewed)**\n",
        "- **Definition**: The distribution has a **longer left tail**, meaning most values are **clustered on the right** with a few extreme values on the left.\n",
        "- **Implications**:\n",
        "  - **Mean < Median < Mode** (The mean is pulled toward the lower values).\n",
        "  - There are **low outliers** dragging the mean downward.\n",
        "- **Example**:\n",
        "  - **Exam scores** (most students perform well, but a few get very low scores).\n",
        "  - **Bug fix times** (most issues are resolved quickly, but a few take much longer due to complexity).\n",
        "- **Effect in Analysis**:\n",
        "  - Mean **underestimates** the central tendency.\n",
        "  - The **median is a better measure** for accurate summary.\n"
      ],
      "metadata": {
        "id": "5PlkRYvACcz2"
      }
    },
    {
      "cell_type": "markdown",
      "source": [
        "Q.20 Define and explain kurtosis.\n",
        "\n",
        "Ans - ### **Kurtosis: Understanding Data Distribution Shape**\n",
        "Kurtosis is a statistical measure that describes the **tailedness** of a distribution—how peaked or flat it is compared to a normal distribution. It helps determine whether a dataset has more or fewer extreme values (outliers).\n",
        "\n",
        "### **Types of Kurtosis**\n",
        "1. **Mesokurtic (Normal Distribution)**\n",
        "   - **Definition**: A distribution with kurtosis ≈ **3** (same shape as the normal distribution).\n",
        "   - **Characteristics**:\n",
        "     - Balanced tails.\n",
        "     - Moderate peak.\n",
        "   - **Example**: Heights of adults.\n",
        "\n",
        "2. **Leptokurtic (High Kurtosis)**\n",
        "   - **Definition**: A distribution with **kurtosis > 3** (more extreme values).\n",
        "   - **Characteristics**:\n",
        "     - Sharp peak.\n",
        "     - Fat tails—more outliers.\n",
        "   - **Example**: Stock market returns (sudden spikes and crashes).\n",
        "\n",
        "3. **Platykurtic (Low Kurtosis)**\n",
        "   - **Definition**: A distribution with **kurtosis < 3** (fewer extreme values).\n",
        "   - **Characteristics**:\n",
        "     - Flatter peak.\n",
        "     - Thinner tails—less variability.\n",
        "   - **Example**: Exam scores where most students score similarly.\n",
        "\n",
        "### **Why is Kurtosis Important?**\n",
        "- Helps understand **risk and variability** in datasets.\n",
        "- Useful for **financial analysis** (detecting extreme events like market crashes).\n",
        "- Guides **data preprocessing** in machine learning.\n"
      ],
      "metadata": {
        "id": "D10o0Z-1CqcN"
      }
    },
    {
      "cell_type": "markdown",
      "source": [
        "Q.21 What is the purpose of covariance?\n",
        "\n",
        "Ans - ### **Covariance: Understanding the Relationship Between Variables**  \n",
        "Covariance is a statistical measure that quantifies the **direction** of the relationship between two variables—whether they tend to increase or decrease together.\n",
        "\n",
        "### **Purpose of Covariance**\n",
        "1. **Identifies Relationships**  \n",
        "   - Measures how two variables **move together** in a dataset.\n",
        "   - Example: **Stock prices** and **market trends**—do they rise and fall together?\n",
        "\n",
        "2. **Determines Positive or Negative Association**  \n",
        "   - **Positive covariance**: When one variable **increases**, the other **tends to increase** (e.g., **height and weight**).\n",
        "   - **Negative covariance**: When one variable **increases**, the other **tends to decrease** (e.g., **advertising spend vs. complaints received**).\n",
        "   - **Zero covariance**: No significant relationship.\n",
        "\n",
        "3. **Foundation for Correlation**  \n",
        "   - Covariance is a **building block** for correlation, which standardizes the measure for easier interpretation.\n",
        "   - **Correlation** tells us **how strong** the relationship is, while **covariance** only tells us the direction.\n",
        "\n",
        "4. **Essential in Finance and Machine Learning**  \n",
        "   - Used in **portfolio analysis** to assess how stock returns move in relation to each other.\n",
        "   - Helps **feature selection** in machine learning—identifying relationships between input data.\n",
        "\n",
        "### **Formula for Covariance**\n",
        "\\[\n",
        "\\text{Cov}(X, Y) = \\frac{\\sum (X_i - \\bar{X})(Y_i - \\bar{Y})}{N}\n",
        "\\]\n",
        "Where:\n",
        "- \\(X_i, Y_i\\) = Individual data points\n",
        "- \\(\\bar{X}, \\bar{Y}\\) = Mean of X and Y\n",
        "- \\(N\\) = Number of observations\n"
      ],
      "metadata": {
        "id": "dwozcKpeC5mN"
      }
    },
    {
      "cell_type": "markdown",
      "source": [
        "Q.22 What does correlation measure in statistics?\n",
        "\n",
        "Ans - ### **Correlation: Measuring Relationships Between Variables**  \n",
        "Correlation is a statistical measure that quantifies the **strength and direction** of a relationship between two variables. It helps determine whether changes in one variable are associated with changes in another.\n",
        "\n",
        "### **Key Aspects of Correlation**\n",
        "1. **Direction of Relationship**:\n",
        "   - **Positive Correlation**: When one variable **increases**, the other **tends to increase** (e.g., height & weight).\n",
        "   - **Negative Correlation**: When one variable **increases**, the other **tends to decrease** (e.g., hours of sleep & stress levels).\n",
        "   - **Zero Correlation**: No relationship between the variables (e.g., shoe size & intelligence).\n",
        "\n",
        "2. **Strength of Relationship**:\n",
        "   - **Strong correlation** means variables are closely linked.\n",
        "   - **Weak correlation** means variables are loosely associated.\n",
        "\n",
        "### **Correlation Coefficient (\\( r \\))**\n",
        "The Pearson correlation coefficient (\\( r \\)) ranges from **-1 to 1**:\n",
        "- **\\( r = 1 \\)** → Perfect **positive correlation** (variables move together).\n",
        "- **\\( r = -1 \\)** → Perfect **negative correlation** (variables move in opposite directions).\n",
        "- **\\( r = 0 \\)** → No correlation (variables are independent).\n"
      ],
      "metadata": {
        "id": "FrnkqyvQDFbn"
      }
    },
    {
      "cell_type": "markdown",
      "source": [
        "Q.23 What is the difference between covariance and correlation?\n",
        "\n",
        "Ans - ### **Covariance vs. Correlation: Understanding the Key Differences**\n",
        "\n",
        "Both **covariance** and **correlation** measure relationships between two variables, but they differ in scale, interpretation, and usability.\n",
        "\n",
        "### **1. Covariance**\n",
        "- **Definition**: Measures how two variables change together.\n",
        "- **Formula**:\n",
        "  \\[\n",
        "  \\text{Cov}(X, Y) = \\frac{\\sum (X_i - \\bar{X})(Y_i - \\bar{Y})}{N}\n",
        "  \\]\n",
        "- **Key Characteristics**:\n",
        "  - **Direction** of relationship: Positive (\\(X\\) and \\(Y\\) move in the same direction) or Negative (\\(X\\) increases, \\(Y\\) decreases).\n",
        "  - **Units vary**, making comparisons harder.\n",
        "  - **Unstandardized**, meaning covariance values depend on the scale of the variables.\n",
        "- **Example**: If **study hours and exam scores** have positive covariance, studying more tends to improve scores.\n",
        "\n",
        "### **2. Correlation**\n",
        "- **Definition**: A normalized measure of covariance that indicates **both strength and direction**.\n",
        "- **Formula (Pearson Correlation Coefficient)**:\n",
        "  \\[\n",
        "  r = \\frac{\\text{Cov}(X, Y)}{\\sigma_X \\sigma_Y}\n",
        "  \\]\n",
        "- **Key Characteristics**:\n",
        "  - Values range between **-1 to +1** for easier interpretation:\n",
        "    - **+1** → Perfect positive correlation.\n",
        "    - **0** → No correlation.\n",
        "    - **-1** → Perfect negative correlation.\n",
        "  - **Unit-free**, making comparisons across datasets easier.\n",
        "  - Used widely in **data science & machine learning**.\n",
        "\n",
        "### **Key Difference**\n",
        "- **Covariance** identifies only **the direction** of the relationship.\n",
        "- **Correlation** measures **both direction and strength**, making it more practical for data analysis.\n"
      ],
      "metadata": {
        "id": "0MAm0HzFDWxR"
      }
    },
    {
      "cell_type": "markdown",
      "source": [
        "Q.24 What are some real-world applications of statistics?\n",
        "\n",
        "Ans - Statistics is everywhere, shaping decisions in industries from healthcare to finance. Here are some **real-world applications**:\n",
        "\n",
        "### **1. Healthcare & Medicine**\n",
        "   - **Epidemiology**: Analyzing disease spread (e.g., COVID-19 infection rates).\n",
        "   - **Clinical Trials**: Testing new drugs using statistical sampling and hypothesis testing.\n",
        "   - **Medical Imaging**: Applying statistical methods to enhance X-rays, MRIs, and CT scans.\n",
        "\n",
        "### **2. Business & Economics**\n",
        "   - **Market Analysis**: Companies use statistics for customer segmentation and pricing strategies.\n",
        "   - **Risk Assessment**: Banks apply probability models for credit scoring and fraud detection.\n",
        "   - **Supply Chain Optimization**: Predicting inventory needs using statistical forecasting.\n",
        "\n",
        "### **3. Data Science & Machine Learning**\n",
        "   - **Predictive Modeling**: Using regression and classification to anticipate outcomes.\n",
        "   - **Recommendation Systems**: Algorithms suggesting movies, products, or music.\n",
        "   - **Fraud Detection**: Statistical anomaly detection helps identify suspicious transactions.\n",
        "\n",
        "### **4. Social Sciences & Psychology**\n",
        "   - **Surveys & Polling**: Understanding public opinion and behavior trends.\n",
        "   - **Behavioral Research**: Studying human interactions using statistical sampling.\n",
        "   - **Educational Assessment**: Evaluating student performance through standardized test scores.\n",
        "\n",
        "### **5. Engineering & Quality Control**\n",
        "   - **Manufacturing Defect Analysis**: Ensuring product quality using statistical control charts.\n",
        "   - **Reliability Testing**: Predicting machine failures using probability models.\n",
        "   - **Traffic Flow Analysis**: Optimizing city road networks using statistical data.\n"
      ],
      "metadata": {
        "id": "JjERY6oxDjvh"
      }
    },
    {
      "cell_type": "markdown",
      "source": [
        "# Practical Questions"
      ],
      "metadata": {
        "id": "xACh48Q6DxWL"
      }
    },
    {
      "cell_type": "markdown",
      "source": [
        "# How do you calculate the mean, median, and mode of a dataset?\n",
        "\n",
        "### **Calculating Mean, Median, and Mode in a Dataset**\n",
        "These three measures help summarize a dataset and describe its central tendency.\n",
        "\n",
        "### **1. Mean (Average)**\n",
        "- **Formula**:\n",
        "  \\[\n",
        "  \\text{Mean} = \\frac{\\sum X}{N}\n",
        "  \\]\n",
        "  Where \\( X \\) represents the values and \\( N \\) is the total number of values.\n",
        "- **Example**:\n",
        "  - Dataset: **[4, 8, 6, 5, 3]**\n",
        "  - Mean = \\( \\frac{4 + 8 + 6 + 5 + 3}{5} = 5.2 \\)\n",
        "\n",
        "### **2. Median (Middle Value)**\n",
        "- **Steps**:\n",
        "  1. Sort the dataset.\n",
        "  2. Identify the middle value.\n",
        "     - If the count is **odd**, the middle number is the median.\n",
        "     - If the count is **even**, the median is the average of the two middle numbers.\n",
        "- **Example**:\n",
        "  - Dataset: **[3, 4, 5, 6, 8]** → Median = **5**.\n",
        "  - Dataset: **[3, 4, 5, 6, 8, 10]** → Median = \\( \\frac{5 + 6}{2} = 5.5 \\).\n",
        "\n",
        "### **3. Mode (Most Frequent Value)**\n",
        "- **Definition**: The value(s) that appear most frequently in a dataset.\n",
        "- **Example**:\n",
        "  - Dataset: **[2, 3, 3, 4, 5, 3, 6]** → Mode = **3**.\n",
        "  - Dataset: **[1, 2, 3, 4, 5]** → No mode (all values appear only once).\n",
        "\n"
      ],
      "metadata": {
        "id": "63suWhxwD07G"
      }
    },
    {
      "cell_type": "code",
      "source": [
        "# Write a Python program to compute the variance and standard deviation of a dataset\n",
        "\n",
        "\n",
        "import numpy as np\n",
        "\n",
        "# Sample dataset\n",
        "data = [4, 8, 6, 5, 3, 3, 8]\n",
        "\n",
        "# Compute variance\n",
        "variance = np.var(data, ddof=0)  # Population variance (ddof=0)\n",
        "\n",
        "# Compute standard deviation\n",
        "std_dev = np.std(data, ddof=0)  # Population standard deviation\n",
        "\n",
        "print(f\"Variance: {variance:.2f}\")\n",
        "print(f\"Standard Deviation: {std_dev:.2f}\")"
      ],
      "metadata": {
        "colab": {
          "base_uri": "https://localhost:8080/"
        },
        "id": "iAxn0Jw7ER4y",
        "outputId": "89c677b0-2857-4806-8dd0-139d4fce0594"
      },
      "execution_count": 1,
      "outputs": [
        {
          "output_type": "stream",
          "name": "stdout",
          "text": [
            "Variance: 3.92\n",
            "Standard Deviation: 1.98\n"
          ]
        }
      ]
    },
    {
      "cell_type": "code",
      "source": [
        "# Create a dataset and classify it into nominal, ordinal, interval, and ratio types\n",
        "\n",
        "import pandas as pd\n",
        "\n",
        "# Creating a dataset with different data types\n",
        "data = {\n",
        "    \"City\": [\"Delhi\", \"Mumbai\", \"Bangalore\"],\n",
        "    \"Satisfaction\": [\"Poor\", \"Average\", \"Good\"],\n",
        "    \"Temperature_C\": [10, 20, 30],\n",
        "    \"Annual_Salary\": [30000, 60000, 100000]\n",
        "}\n",
        "\n",
        "# Converting to Pandas DataFrame\n",
        "df = pd.DataFrame(data)\n",
        "\n",
        "# Setting appropriate data types\n",
        "df[\"City\"] = df[\"City\"].astype(\"category\")  # Nominal\n",
        "df[\"Satisfaction\"] = pd.Categorical(df[\"Satisfaction\"], ordered=True)  # Ordinal\n",
        "\n",
        "print(df.info())  # Check dataset structure\n",
        "print(df.head())  # View dataset"
      ],
      "metadata": {
        "colab": {
          "base_uri": "https://localhost:8080/"
        },
        "id": "lvbYuFCmFM7B",
        "outputId": "24a78d50-48d2-4b6b-9ba9-d18aade6c62d"
      },
      "execution_count": 4,
      "outputs": [
        {
          "output_type": "stream",
          "name": "stdout",
          "text": [
            "<class 'pandas.core.frame.DataFrame'>\n",
            "RangeIndex: 3 entries, 0 to 2\n",
            "Data columns (total 4 columns):\n",
            " #   Column         Non-Null Count  Dtype   \n",
            "---  ------         --------------  -----   \n",
            " 0   City           3 non-null      category\n",
            " 1   Satisfaction   3 non-null      category\n",
            " 2   Temperature_C  3 non-null      int64   \n",
            " 3   Annual_Salary  3 non-null      int64   \n",
            "dtypes: category(2), int64(2)\n",
            "memory usage: 450.0 bytes\n",
            "None\n",
            "        City Satisfaction  Temperature_C  Annual_Salary\n",
            "0      Delhi         Poor             10          30000\n",
            "1     Mumbai      Average             20          60000\n",
            "2  Bangalore         Good             30         100000\n"
          ]
        }
      ]
    },
    {
      "cell_type": "code",
      "source": [
        "# Implement sampling techniques like random sampling and stratified sampling\n",
        "\n",
        "import pandas as pd\n",
        "\n",
        "# Creating a sample dataset\n",
        "data = {'ID': range(1, 21), 'Value': [i * 2 for i in range(1, 21)]}\n",
        "df = pd.DataFrame(data)\n",
        "\n",
        "# Randomly selecting 5 samples\n",
        "random_sample = df.sample(n=5, random_state=42)\n",
        "\n",
        "print(\"Random Sample:\\n\", random_sample)\n"
      ],
      "metadata": {
        "colab": {
          "base_uri": "https://localhost:8080/"
        },
        "id": "LBzepa-TFRnG",
        "outputId": "9c68cf84-0a25-4924-c3b0-af66334b2040"
      },
      "execution_count": 6,
      "outputs": [
        {
          "output_type": "stream",
          "name": "stdout",
          "text": [
            "Random Sample:\n",
            "     ID  Value\n",
            "0    1      2\n",
            "17  18     36\n",
            "15  16     32\n",
            "1    2      4\n",
            "8    9     18\n"
          ]
        }
      ]
    },
    {
      "cell_type": "code",
      "source": [
        "from sklearn.model_selection import train_test_split\n",
        "\n",
        "# Creating a sample dataset with categorical groups\n",
        "data = {'ID': range(1, 21), 'Category': ['A'] * 10 + ['B'] * 10, 'Value': [i * 2 for i in range(1, 21)]}\n",
        "df = pd.DataFrame(data)\n",
        "\n",
        "# Performing stratified sampling (50% of each category)\n",
        "stratified_sample, _ = train_test_split(df, test_size=0.5, stratify=df['Category'], random_state=42)\n",
        "\n",
        "print(\"Stratified Sample:\\n\", stratified_sample)"
      ],
      "metadata": {
        "colab": {
          "base_uri": "https://localhost:8080/"
        },
        "id": "qjWG4C-wFmMJ",
        "outputId": "de12599d-6dcd-4684-b97c-c8316b2aa69f"
      },
      "execution_count": 7,
      "outputs": [
        {
          "output_type": "stream",
          "name": "stdout",
          "text": [
            "Stratified Sample:\n",
            "     ID Category  Value\n",
            "13  14        B     28\n",
            "5    6        A     12\n",
            "8    9        A     18\n",
            "11  12        B     24\n",
            "15  16        B     32\n",
            "10  11        B     22\n",
            "0    1        A      2\n",
            "18  19        B     38\n",
            "1    2        A      4\n",
            "7    8        A     16\n"
          ]
        }
      ]
    },
    {
      "cell_type": "code",
      "source": [
        "# Write a Python function to calculate the range of a dataset\n",
        "\n",
        "def calculate_range(data):\n",
        "    \"\"\"\n",
        "    Calculate the range of a dataset.\n",
        "\n",
        "    Parameters:\n",
        "        data (list): A list of numerical values.\n",
        "\n",
        "    Returns:\n",
        "        int/float: The range (max value - min value).\n",
        "    \"\"\"\n",
        "    if not data:\n",
        "        return None  # Handle empty list case\n",
        "\n",
        "    return max(data) - min(data)\n",
        "\n",
        "# Example usage\n",
        "dataset = [3, 7, 15, 21, 28]\n",
        "print(f\"Range: {calculate_range(dataset)}\")"
      ],
      "metadata": {
        "colab": {
          "base_uri": "https://localhost:8080/"
        },
        "id": "ysL_ZLvsFqZc",
        "outputId": "10dc9eb1-8dce-4f6d-d552-1c7ca2a7400b"
      },
      "execution_count": 8,
      "outputs": [
        {
          "output_type": "stream",
          "name": "stdout",
          "text": [
            "Range: 25\n"
          ]
        }
      ]
    },
    {
      "cell_type": "code",
      "source": [
        "# Create a dataset and plot its histogram to visualize skewness\n",
        "\n",
        "import numpy as np\n",
        "import pandas as pd\n",
        "import matplotlib.pyplot as plt\n",
        "import seaborn as sns\n",
        "\n",
        "# Generating a right-skewed dataset\n",
        "np.random.seed(42)\n",
        "data = np.random.exponential(scale=2, size=1000)  # Exponential distribution (right-skewed)\n",
        "\n",
        "# Creating a Pandas DataFrame\n",
        "df = pd.DataFrame(data, columns=['Values'])\n",
        "\n",
        "# Plotting histogram\n",
        "plt.figure(figsize=(8, 5))\n",
        "sns.histplot(df['Values'], bins=30, kde=True, color='blue')\n",
        "\n",
        "# Adding title and labels\n",
        "plt.title(\"Histogram of Right-Skewed Data\")\n",
        "plt.xlabel(\"Values\")\n",
        "plt.ylabel(\"Frequency\")\n",
        "\n",
        "# Show plot\n",
        "plt.show()\n"
      ],
      "metadata": {
        "colab": {
          "base_uri": "https://localhost:8080/",
          "height": 487
        },
        "id": "mfm6rFw6F0GF",
        "outputId": "d5868f71-0f89-4dc7-e6c6-fa22f3923894"
      },
      "execution_count": 10,
      "outputs": [
        {
          "output_type": "display_data",
          "data": {
            "text/plain": [
              "<Figure size 800x500 with 1 Axes>"
            ],
            "image/png": "[encoded data removed]"
          },
          "metadata": {}
        }
      ]
    },
    {
      "cell_type": "code",
      "source": [
        "# Calculate skewness and kurtosis of a dataset using Python libraries\n",
        "\n",
        "\n",
        "import numpy as np\n",
        "import pandas as pd\n",
        "from scipy.stats import skew, kurtosis\n",
        "\n",
        "# Generating a sample dataset (right-skewed)\n",
        "np.random.seed(42)\n",
        "data = np.random.exponential(scale=2, size=1000)  # Exponential distribution\n",
        "\n",
        "# Convert to Pandas DataFrame\n",
        "df = pd.DataFrame(data, columns=['Values'])\n",
        "\n",
        "\n",
        "# Calculate skewness\n",
        "skewness_value = skew(df['Values'])\n",
        "\n",
        "# Calculate kurtosis\n",
        "kurtosis_value = kurtosis(df['Values'])\n",
        "\n",
        "print(f\"Skewness: {skewness_value:.2f}\")\n",
        "print(f\"Kurtosis: {kurtosis_value:.2f}\")"
      ],
      "metadata": {
        "colab": {
          "base_uri": "https://localhost:8080/"
        },
        "id": "AwM1ZggnF3Cy",
        "outputId": "f8946a08-3de8-4bdc-b75e-6d1b043c67ff"
      },
      "execution_count": 12,
      "outputs": [
        {
          "output_type": "stream",
          "name": "stdout",
          "text": [
            "Skewness: 1.87\n",
            "Kurtosis: 5.22\n"
          ]
        }
      ]
    },
    {
      "cell_type": "code",
      "source": [
        "# Generate a dataset and demonstrate positive and negative skewness\n",
        "\n",
        "import numpy as np\n",
        "import pandas as pd\n",
        "import matplotlib.pyplot as plt\n",
        "import seaborn as sns\n",
        "\n",
        "# Set seed for reproducibility\n",
        "np.random.seed(42)\n",
        "\n",
        "# Generate positively skewed data (Right-Skewed)\n",
        "positive_skew = np.random.exponential(scale=2, size=1000)\n",
        "\n",
        "# Generate negatively skewed data (Left-Skewed) by flipping the right-skewed dataset\n",
        "negative_skew = -np.random.exponential(scale=2, size=1000)\n",
        "\n",
        "# Create DataFrames\n",
        "df_pos = pd.DataFrame(positive_skew, columns=['Values'])\n",
        "df_neg = pd.DataFrame(negative_skew, columns=['Values'])\n",
        "\n",
        "# Plot Histograms\n",
        "fig, axes = plt.subplots(1, 2, figsize=(12, 5))\n",
        "\n",
        "# Right-Skewed Data\n",
        "sns.histplot(df_pos['Values'], bins=30, kde=True, ax=axes[0], color='blue')\n",
        "axes[0].set_title(\"Positively Skewed Data (Right-Skewed)\")\n",
        "\n",
        "# Left-Skewed Data\n",
        "sns.histplot(df_neg['Values'], bins=30, kde=True, ax=axes[1], color='red')\n",
        "axes[1].set_title(\"Negatively Skewed Data (Left-Skewed)\")\n",
        "\n",
        "plt.show()"
      ],
      "metadata": {
        "colab": {
          "base_uri": "https://localhost:8080/",
          "height": 487
        },
        "id": "qVwJtdigGLp0",
        "outputId": "39c9fa11-f847-4121-ec4d-b60730d1e0e1"
      },
      "execution_count": 13,
      "outputs": [
        {
          "output_type": "display_data",
          "data": {
            "text/plain": [
              "<Figure size 1200x500 with 2 Axes>"
            ],
            "image/png": "[encoded data removed]"
          },
          "metadata": {}
        }
      ]
    },
    {
      "cell_type": "code",
      "source": [
        "# Write a Python script to calculate covariance between two datasets\n",
        "\n",
        "import numpy as np\n",
        "\n",
        "# Sample datasets\n",
        "X = [2, 4, 6, 8, 10]\n",
        "Y = [1, 3, 5, 7, 9]\n",
        "\n",
        "# Compute covariance matrix\n",
        "cov_matrix = np.cov(X, Y, bias=True)  # bias=True calculates population covariance\n",
        "\n",
        "# Extract covariance value\n",
        "covariance = cov_matrix[0, 1]\n",
        "\n",
        "print(f\"Covariance between X and Y: {covariance:.2f}\")"
      ],
      "metadata": {
        "colab": {
          "base_uri": "https://localhost:8080/"
        },
        "id": "M3nqlzItGah4",
        "outputId": "75f1c84c-a6bf-4fb4-872a-3356ce1fb4ff"
      },
      "execution_count": 14,
      "outputs": [
        {
          "output_type": "stream",
          "name": "stdout",
          "text": [
            "Covariance between X and Y: 8.00\n"
          ]
        }
      ]
    },
    {
      "cell_type": "code",
      "source": [
        "# Write a Python script to calculate the correlation coefficient between two datasets\n",
        "\n",
        "import numpy as np\n",
        "\n",
        "# Sample datasets\n",
        "X = [2, 4, 6, 8, 10]\n",
        "Y = [1, 3, 5, 7, 9]\n",
        "\n",
        "# Compute correlation coefficient\n",
        "correlation = np.corrcoef(X, Y)[0, 1]\n",
        "\n",
        "print(f\"Correlation Coefficient: {correlation:.2f}\")"
      ],
      "metadata": {
        "colab": {
          "base_uri": "https://localhost:8080/"
        },
        "id": "u0DIA9S1GlCG",
        "outputId": "48e0ba6e-63b2-4dbb-bc71-f0a2f0b3201c"
      },
      "execution_count": 15,
      "outputs": [
        {
          "output_type": "stream",
          "name": "stdout",
          "text": [
            "Correlation Coefficient: 1.00\n"
          ]
        }
      ]
    },
    {
      "cell_type": "code",
      "source": [
        "# Create a scatter plot to visualize the relationship between two variables\n",
        "\n",
        "import numpy as np\n",
        "import pandas as pd\n",
        "import matplotlib.pyplot as plt\n",
        "import seaborn as sns\n",
        "\n",
        "# Generating synthetic data\n",
        "np.random.seed(42)\n",
        "X = np.random.randint(1, 10, 50)  # Study hours (independent variable)\n",
        "Y = X * 5 + np.random.normal(0, 5, 50)  # Exam scores (dependent variable with noise)\n",
        "\n",
        "# Creating a DataFrame\n",
        "df = pd.DataFrame({'Study Hours': X, 'Exam Scores': Y})\n",
        "\n",
        "# Plotting scatter plot\n",
        "plt.figure(figsize=(8, 5))\n",
        "sns.scatterplot(x=df['Study Hours'], y=df['Exam Scores'], color='blue')\n",
        "\n",
        "# Adding title and labels\n",
        "plt.title(\"Scatter Plot: Study Hours vs Exam Scores\")\n",
        "plt.xlabel(\"Study Hours\")\n",
        "plt.ylabel(\"Exam Scores\")\n",
        "\n",
        "# Show plot\n",
        "plt.show()"
      ],
      "metadata": {
        "colab": {
          "base_uri": "https://localhost:8080/",
          "height": 487
        },
        "id": "il6f2asjG6Uj",
        "outputId": "3ff95ab3-49a0-41ae-9152-965ec86df124"
      },
      "execution_count": 17,
      "outputs": [
        {
          "output_type": "display_data",
          "data": {
            "text/plain": [
              "<Figure size 800x500 with 1 Axes>"
            ],
            "image/png": "[encoded data removed]"
          },
          "metadata": {}
        }
      ]
    },
    {
      "cell_type": "code",
      "source": [
        "# Implement and compare simple random sampling and systematic sampling\n",
        "\n",
        "import pandas as pd\n",
        "\n",
        "# Sample dataset\n",
        "data = {'ID': range(1, 21), 'Value': [i * 2 for i in range(1, 21)]}\n",
        "df = pd.DataFrame(data)\n",
        "\n",
        "# Randomly select 5 samples\n",
        "random_sample = df.sample(n=5, random_state=42)\n",
        "\n",
        "print(\"Simple Random Sample:\\n\", random_sample)"
      ],
      "metadata": {
        "colab": {
          "base_uri": "https://localhost:8080/"
        },
        "id": "Ga2MoJnbHDyo",
        "outputId": "4da18eb7-d013-488d-f648-8ca1d7cffe68"
      },
      "execution_count": 18,
      "outputs": [
        {
          "output_type": "stream",
          "name": "stdout",
          "text": [
            "Simple Random Sample:\n",
            "     ID  Value\n",
            "0    1      2\n",
            "17  18     36\n",
            "15  16     32\n",
            "1    2      4\n",
            "8    9     18\n"
          ]
        }
      ]
    },
    {
      "cell_type": "code",
      "source": [
        "def systematic_sampling(df, sample_size):\n",
        "    step = len(df) // sample_size  # Calculate step size\n",
        "    systematic_sample = df.iloc[::step]  # Select every k-th row\n",
        "    return systematic_sample\n",
        "\n",
        "# Select 5 samples systematically\n",
        "sys_sample = systematic_sampling(df, sample_size=5)\n",
        "\n",
        "print(\"Systematic Sample:\\n\", sys_sample)"
      ],
      "metadata": {
        "colab": {
          "base_uri": "https://localhost:8080/"
        },
        "id": "1g5hGHs-HPFF",
        "outputId": "965da301-a62f-459b-cea1-6eef5da6a29d"
      },
      "execution_count": 19,
      "outputs": [
        {
          "output_type": "stream",
          "name": "stdout",
          "text": [
            "Systematic Sample:\n",
            "     ID  Value\n",
            "0    1      2\n",
            "4    5     10\n",
            "8    9     18\n",
            "12  13     26\n",
            "16  17     34\n"
          ]
        }
      ]
    },
    {
      "cell_type": "code",
      "source": [
        "# Calculate the mean, median, and mode of grouped data\n",
        "\n",
        "import numpy as np\n",
        "\n",
        "# Sample grouped data (class intervals and frequencies)\n",
        "class_intervals = [(10, 20), (20, 30), (30, 40), (40, 50)]\n",
        "frequencies = [5, 8, 12, 6]\n",
        "\n",
        "# Compute midpoints\n",
        "midpoints = [(interval[0] + interval[1]) / 2 for interval in class_intervals]\n",
        "\n",
        "# Compute mean\n",
        "mean = np.dot(midpoints, frequencies) / sum(frequencies)\n",
        "\n",
        "print(f\"Mean: {mean:.2f}\")"
      ],
      "metadata": {
        "colab": {
          "base_uri": "https://localhost:8080/"
        },
        "id": "iJb8yJKOHSSD",
        "outputId": "25704729-1dcd-426d-8211-0dc8e37d88f1"
      },
      "execution_count": 20,
      "outputs": [
        {
          "output_type": "stream",
          "name": "stdout",
          "text": [
            "Mean: 31.13\n"
          ]
        }
      ]
    },
    {
      "cell_type": "code",
      "source": [
        "def find_median_class(frequencies):\n",
        "    cumulative_freq = np.cumsum(frequencies)\n",
        "    total = sum(frequencies)\n",
        "    median_class_index = np.where(cumulative_freq >= total / 2)[0][0]\n",
        "    return median_class_index\n",
        "\n",
        "median_class_index = find_median_class(frequencies)\n",
        "median_class = class_intervals[median_class_index]\n",
        "L = median_class[0]\n",
        "F = sum(frequencies[:median_class_index])\n",
        "fm = frequencies[median_class_index]\n",
        "h = median_class[1] - median_class[0]\n",
        "\n",
        "median = L + ((sum(frequencies) / 2 - F) / fm) * h\n",
        "\n",
        "print(f\"Median: {median:.2f}\")"
      ],
      "metadata": {
        "colab": {
          "base_uri": "https://localhost:8080/"
        },
        "id": "es9g9pmVHdS0",
        "outputId": "641c5721-e697-4a6c-8575-51eda94b112c"
      },
      "execution_count": 21,
      "outputs": [
        {
          "output_type": "stream",
          "name": "stdout",
          "text": [
            "Median: 32.08\n"
          ]
        }
      ]
    },
    {
      "cell_type": "code",
      "source": [
        "mode_class_index = np.argmax(frequencies)\n",
        "mode_class = class_intervals[mode_class_index]\n",
        "\n",
        "L = mode_class[0]\n",
        "fm = frequencies[mode_class_index]\n",
        "f_prev = frequencies[mode_class_index - 1] if mode_class_index > 0 else 0\n",
        "f_next = frequencies[mode_class_index + 1] if mode_class_index < len(frequencies) - 1 else 0\n",
        "h = mode_class[1] - mode_class[0]\n",
        "\n",
        "mode = L + ((fm - f_prev) / (2 * fm - f_prev - f_next)) * h\n",
        "\n",
        "print(f\"Mode: {mode:.2f}\")"
      ],
      "metadata": {
        "colab": {
          "base_uri": "https://localhost:8080/"
        },
        "id": "Ew6pZ5sFHgEq",
        "outputId": "4a7b1843-64dc-4cb4-d55e-5d5fdbfe7cac"
      },
      "execution_count": 22,
      "outputs": [
        {
          "output_type": "stream",
          "name": "stdout",
          "text": [
            "Mode: 34.00\n"
          ]
        }
      ]
    },
    {
      "cell_type": "code",
      "source": [
        "# Simulate data using Python and calculate its central tendency and dispersion.\n",
        "\n",
        "import numpy as np\n",
        "import pandas as pd\n",
        "from scipy.stats import mode\n",
        "\n",
        "# Generate random data (normally distributed)\n",
        "np.random.seed(42)\n",
        "data = np.random.normal(loc=50, scale=10, size=100)  # Mean=50, Std Dev=10\n",
        "\n",
        "# Convert to Pandas DataFrame\n",
        "df = pd.DataFrame(data, columns=['Values'])\n",
        "\n",
        "mean_value = np.mean(df['Values'])\n",
        "median_value = np.median(df['Values'])\n",
        "mode_value = mode(df['Values'], keepdims=True).mode[0]\n",
        "\n",
        "print(f\"Mean: {mean_value:.2f}\")\n",
        "print(f\"Median: {median_value:.2f}\")\n",
        "print(f\"Mode: {mode_value:.2f}\")\n",
        "\n",
        "\n",
        "variance_value = np.var(df['Values'], ddof=1)  # Sample variance\n",
        "std_dev_value = np.std(df['Values'], ddof=1)  # Sample standard deviation\n",
        "range_value = np.ptp(df['Values'])  # Peak-to-peak (max - min)\n",
        "\n",
        "print(f\"Variance: {variance_value:.2f}\")\n",
        "print(f\"Standard Deviation: {std_dev_value:.2f}\")\n",
        "print(f\"Range: {range_value:.2f}\")\n"
      ],
      "metadata": {
        "colab": {
          "base_uri": "https://localhost:8080/"
        },
        "id": "6QQZa3lnHpGL",
        "outputId": "4f1f24f2-ce14-4b60-ef68-5a1405b218db"
      },
      "execution_count": 24,
      "outputs": [
        {
          "output_type": "stream",
          "name": "stdout",
          "text": [
            "Mean: 48.96\n",
            "Median: 48.73\n",
            "Mode: 23.80\n",
            "Variance: 82.48\n",
            "Standard Deviation: 9.08\n",
            "Range: 44.72\n"
          ]
        }
      ]
    },
    {
      "cell_type": "code",
      "source": [
        "# Use NumPy or pandas to summarize a dataset’s descriptive statistics\n",
        "\n",
        "import numpy as np\n",
        "import pandas as pd\n",
        "\n",
        "# Generate a synthetic dataset\n",
        "np.random.seed(42)\n",
        "data = np.random.normal(loc=50, scale=10, size=100)  # Mean=50, Std Dev=10\n",
        "\n",
        "# Convert to Pandas DataFrame\n",
        "df = pd.DataFrame(data, columns=['Values'])\n",
        "\n",
        "# Summary statistics using Pandas\n",
        "summary = df.describe()\n",
        "print(summary)\n",
        "\n",
        "\n",
        "mean_value = df['Values'].mean()\n",
        "median_value = df['Values'].median()\n",
        "std_dev_value = df['Values'].std()\n",
        "variance_value = df['Values'].var()\n",
        "range_value = df['Values'].max() - df['Values'].min()\n",
        "\n",
        "print(f\"Mean: {mean_value:.2f}\")\n",
        "print(f\"Median: {median_value:.2f}\")\n",
        "print(f\"Standard Deviation: {std_dev_value:.2f}\")\n",
        "print(f\"Variance: {variance_value:.2f}\")\n",
        "print(f\"Range: {range_value:.2f}\")"
      ],
      "metadata": {
        "colab": {
          "base_uri": "https://localhost:8080/"
        },
        "id": "uowwm5OqH4D1",
        "outputId": "e75f6cba-1414-4988-cd17-780b2d9c2547"
      },
      "execution_count": 25,
      "outputs": [
        {
          "output_type": "stream",
          "name": "stdout",
          "text": [
            "           Values\n",
            "count  100.000000\n",
            "mean    48.961535\n",
            "std      9.081684\n",
            "min     23.802549\n",
            "25%     43.990943\n",
            "50%     48.730437\n",
            "75%     54.059521\n",
            "max     68.522782\n",
            "Mean: 48.96\n",
            "Median: 48.73\n",
            "Standard Deviation: 9.08\n",
            "Variance: 82.48\n",
            "Range: 44.72\n"
          ]
        }
      ]
    },
    {
      "cell_type": "code",
      "source": [
        "# Plot a boxplot to understand the spread and identify outliers\n",
        "\n",
        "import numpy as np\n",
        "import pandas as pd\n",
        "import matplotlib.pyplot as plt\n",
        "import seaborn as sns\n",
        "\n",
        "# Generating sample data (normally distributed with some outliers)\n",
        "np.random.seed(42)\n",
        "data = np.random.normal(loc=50, scale=10, size=100)\n",
        "data = np.append(data, [100, 105, 110])  # Adding extreme values (outliers)\n",
        "\n",
        "# Creating a DataFrame\n",
        "df = pd.DataFrame(data, columns=['Values'])\n",
        "\n",
        "# Plotting boxplot\n",
        "plt.figure(figsize=(8, 5))\n",
        "sns.boxplot(x=df['Values'], color='blue')\n",
        "\n",
        "# Adding title and labels\n",
        "plt.title(\"Boxplot of Dataset\")\n",
        "plt.xlabel(\"Values\")\n",
        "\n",
        "# Show plot\n",
        "plt.show()"
      ],
      "metadata": {
        "colab": {
          "base_uri": "https://localhost:8080/",
          "height": 487
        },
        "id": "KIr8SblxIIMJ",
        "outputId": "a0317429-330d-4bdb-b4f9-9f7d8f660549"
      },
      "execution_count": 26,
      "outputs": [
        {
          "output_type": "display_data",
          "data": {
            "text/plain": [
              "<Figure size 800x500 with 1 Axes>"
            ],
            "image/png": "[encoded data removed]"
          },
          "metadata": {}
        }
      ]
    },
    {
      "cell_type": "code",
      "source": [
        "# Calculate the interquartile range (IQR) of a dataset\n",
        "\n",
        "import numpy as np\n",
        "\n",
        "# Sample dataset\n",
        "data = [5, 7, 12, 15, 18, 22, 30, 35, 40, 45, 50, 55]\n",
        "\n",
        "# Calculate Q1 and Q3\n",
        "Q1 = np.percentile(data, 25)\n",
        "Q3 = np.percentile(data, 75)\n",
        "\n",
        "# Compute IQR\n",
        "IQR = Q3 - Q1\n",
        "\n",
        "print(f\"Q1 (25th Percentile): {Q1}\")\n",
        "print(f\"Q3 (75th Percentile): {Q3}\")\n",
        "print(f\"Interquartile Range (IQR): {IQR}\")"
      ],
      "metadata": {
        "colab": {
          "base_uri": "https://localhost:8080/"
        },
        "id": "FZZwCu-SIPJO",
        "outputId": "0d6ab157-d7cc-41f5-c984-232399652332"
      },
      "execution_count": 27,
      "outputs": [
        {
          "output_type": "stream",
          "name": "stdout",
          "text": [
            "Q1 (25th Percentile): 14.25\n",
            "Q3 (75th Percentile): 41.25\n",
            "Interquartile Range (IQR): 27.0\n"
          ]
        }
      ]
    },
    {
      "cell_type": "code",
      "source": [
        "# Implement Z-score normalization and explain its significance\n",
        "\n",
        "import numpy as np\n",
        "\n",
        "# Sample dataset\n",
        "data = np.array([10, 20, 30, 40, 50])\n",
        "\n",
        "# Compute mean and standard deviation\n",
        "mean = np.mean(data)\n",
        "std_dev = np.std(data)\n",
        "\n",
        "# Apply Z-score normalization\n",
        "z_scores = (data - mean) / std_dev\n",
        "\n",
        "print(f\"Original Data: {data}\")\n",
        "print(f\"Z-Score Normalized Data: {z_scores}\")"
      ],
      "metadata": {
        "colab": {
          "base_uri": "https://localhost:8080/"
        },
        "id": "Jelo62JCIY74",
        "outputId": "48a375f9-3479-4944-f196-36ae9d69a4f5"
      },
      "execution_count": 28,
      "outputs": [
        {
          "output_type": "stream",
          "name": "stdout",
          "text": [
            "Original Data: [10 20 30 40 50]\n",
            "Z-Score Normalized Data: [-1.41421356 -0.70710678  0.          0.70710678  1.41421356]\n"
          ]
        }
      ]
    },
    {
      "cell_type": "code",
      "source": [
        "# Compare two datasets using their standard deviations\n",
        "\n",
        "import numpy as np\n",
        "\n",
        "# Dataset A: Low variability\n",
        "data_A = np.array([48, 50, 49, 51, 52, 50, 49, 51, 50, 50])\n",
        "\n",
        "# Dataset B: High variability\n",
        "data_B = np.array([30, 50, 10, 80, 90, 25, 60, 70, 40, 55])\n",
        "\n",
        "# Compute standard deviation\n",
        "std_A = np.std(data_A, ddof=1)  # Sample standard deviation\n",
        "std_B = np.std(data_B, ddof=1)\n",
        "\n",
        "print(f\"Standard Deviation of Dataset A: {std_A:.2f}\")\n",
        "print(f\"Standard Deviation of Dataset B: {std_B:.2f}\")"
      ],
      "metadata": {
        "colab": {
          "base_uri": "https://localhost:8080/"
        },
        "id": "5N6FfINtIeSR",
        "outputId": "5eb9fc63-dcb8-40c1-bda2-794562b0dc96"
      },
      "execution_count": 29,
      "outputs": [
        {
          "output_type": "stream",
          "name": "stdout",
          "text": [
            "Standard Deviation of Dataset A: 1.15\n",
            "Standard Deviation of Dataset B: 25.25\n"
          ]
        }
      ]
    },
    {
      "cell_type": "code",
      "source": [
        "# Write a Python program to visualize covariance using a heatmap\n",
        "\n",
        "import numpy as np\n",
        "import pandas as pd\n",
        "import seaborn as sns\n",
        "import matplotlib.pyplot as plt\n",
        "\n",
        "# Sample dataset with three variables\n",
        "np.random.seed(42)\n",
        "data = {\n",
        "    \"Feature_A\": np.random.randint(10, 50, 100),\n",
        "    \"Feature_B\": np.random.randint(30, 70, 100),\n",
        "    \"Feature_C\": np.random.randint(50, 90, 100)\n",
        "}\n",
        "\n",
        "# Convert to DataFrame\n",
        "df = pd.DataFrame(data)\n",
        "\n",
        "# Compute covariance matrix\n",
        "cov_matrix = df.cov()\n",
        "\n",
        "# Plot heatmap\n",
        "plt.figure(figsize=(6, 4))\n",
        "sns.heatmap(cov_matrix, annot=True, fmt=\".2f\", cmap=\"coolwarm\", linewidths=0.5)\n",
        "\n",
        "# Adding title\n",
        "plt.title(\"Covariance Heatmap\")\n",
        "\n",
        "# Show plot\n",
        "plt.show()"
      ],
      "metadata": {
        "colab": {
          "base_uri": "https://localhost:8080/",
          "height": 391
        },
        "id": "IKm7xhpUIlkW",
        "outputId": "9e4eccc7-a0bc-44f3-bfa4-a8d522ffbe7d"
      },
      "execution_count": 30,
      "outputs": [
        {
          "output_type": "display_data",
          "data": {
            "text/plain": [
              "<Figure size 600x400 with 2 Axes>"
            ],
            "image/png": "[encoded data removed]"
          },
          "metadata": {}
        }
      ]
    },
    {
      "cell_type": "code",
      "source": [
        "# Use seaborn to create a correlation matrix for a dataset\n",
        "\n",
        "import numpy as np\n",
        "import pandas as pd\n",
        "import seaborn as sns\n",
        "import matplotlib.pyplot as plt\n",
        "\n",
        "# Sample dataset with three features\n",
        "np.random.seed(42)\n",
        "data = {\n",
        "    \"Feature_A\": np.random.randint(10, 50, 100),\n",
        "    \"Feature_B\": np.random.randint(30, 70, 100),\n",
        "    \"Feature_C\": np.random.randint(50, 90, 100)\n",
        "}\n",
        "\n",
        "# Convert to DataFrame\n",
        "df = pd.DataFrame(data)\n",
        "\n",
        "# Compute correlation matrix\n",
        "correlation_matrix = df.corr()\n",
        "\n",
        "# Plot correlation heatmap\n",
        "plt.figure(figsize=(6, 4))\n",
        "sns.heatmap(correlation_matrix, annot=True, fmt=\".2f\", cmap=\"coolwarm\", linewidths=0.5)\n",
        "\n",
        "# Adding title\n",
        "plt.title(\"Correlation Matrix Heatmap\")\n",
        "\n",
        "# Show plot\n",
        "plt.show()"
      ],
      "metadata": {
        "colab": {
          "base_uri": "https://localhost:8080/",
          "height": 391
        },
        "id": "MAGarftHIvPC",
        "outputId": "001f5c0c-ef42-48c6-8322-a14a9bd493a2"
      },
      "execution_count": 31,
      "outputs": [
        {
          "output_type": "display_data",
          "data": {
            "text/plain": [
              "<Figure size 600x400 with 2 Axes>"
            ],
            "image/png": "[encoded data removed]"
          },
          "metadata": {}
        }
      ]
    },
    {
      "cell_type": "code",
      "source": [
        "# Generate a dataset and implement both variance and standard deviation computations\n",
        "\n",
        "import numpy as np\n",
        "import pandas as pd\n",
        "\n",
        "# Generate a dataset of 100 random values (normally distributed)\n",
        "np.random.seed(42)\n",
        "data = np.random.normal(loc=50, scale=10, size=100)  # Mean = 50, Std Dev = 10\n",
        "\n",
        "# Convert to Pandas DataFrame\n",
        "df = pd.DataFrame(data, columns=['Values'])\n",
        "\n",
        "variance = np.var(df['Values'], ddof=1)  # Sample variance (ddof=1)\n",
        "\n",
        "print(f\"Variance: {variance:.2f}\")\n",
        "\n",
        "std_dev = np.std(df['Values'], ddof=1)  # Sample standard deviation (ddof=1)\n",
        "\n",
        "print(f\"Standard Deviation: {std_dev:.2f}\")"
      ],
      "metadata": {
        "colab": {
          "base_uri": "https://localhost:8080/"
        },
        "id": "BijMZlHhI1F-",
        "outputId": "19e6e627-720b-495f-f425-11f002b11c52"
      },
      "execution_count": 32,
      "outputs": [
        {
          "output_type": "stream",
          "name": "stdout",
          "text": [
            "Variance: 82.48\n",
            "Standard Deviation: 9.08\n"
          ]
        }
      ]
    },
    {
      "cell_type": "code",
      "source": [
        "# Visualize skewness and kurtosis using Python libraries like matplotlib or seaborn\n",
        "\n",
        "import numpy as np\n",
        "import pandas as pd\n",
        "import matplotlib.pyplot as plt\n",
        "import seaborn as sns\n",
        "from scipy.stats import skew, kurtosis\n",
        "\n",
        "# Generate a right-skewed dataset\n",
        "np.random.seed(42)\n",
        "data = np.random.exponential(scale=2, size=1000)  # Exponential distribution (right-skewed)\n",
        "\n",
        "# Convert to Pandas DataFrame\n",
        "df = pd.DataFrame(data, columns=['Values'])\n",
        "\n",
        "# Compute skewness and kurtosis\n",
        "skewness_value = skew(df['Values'])\n",
        "kurtosis_value = kurtosis(df['Values'])\n",
        "\n",
        "print(f\"Skewness: {skewness_value:.2f}\")\n",
        "print(f\"Kurtosis: {kurtosis_value:.2f}\")\n",
        "\n",
        "# Plot histogram\n",
        "plt.figure(figsize=(8, 5))\n",
        "sns.histplot(df['Values'], bins=30, kde=True, color='blue')\n",
        "plt.title(f\"Histogram (Skewness: {skewness_value:.2f}, Kurtosis: {kurtosis_value:.2f})\")\n",
        "plt.xlabel(\"Values\")\n",
        "plt.ylabel(\"Frequency\")\n",
        "plt.show()\n",
        "\n",
        "# Plot boxplot\n",
        "plt.figure(figsize=(8, 5))\n",
        "sns.boxplot(x=df['Values'], color='blue')\n",
        "plt.title(\"Boxplot of Skewed Data\")\n",
        "plt.xlabel(\"Values\")\n",
        "plt.show()"
      ],
      "metadata": {
        "colab": {
          "base_uri": "https://localhost:8080/",
          "height": 992
        },
        "id": "QabvLEWyJAS8",
        "outputId": "663614cc-6aa2-4a99-8aed-a7ca0e503c24"
      },
      "execution_count": 33,
      "outputs": [
        {
          "output_type": "stream",
          "name": "stdout",
          "text": [
            "Skewness: 1.87\n",
            "Kurtosis: 5.22\n"
          ]
        },
        {
          "output_type": "display_data",
          "data": {
            "text/plain": [
              "<Figure size 800x500 with 1 Axes>"
            ],
            "image/png": "[encoded data removed]"
          },
          "metadata": {}
        },
        {
          "output_type": "display_data",
          "data": {
            "text/plain": [
              "<Figure size 800x500 with 1 Axes>"
            ],
            "image/png": "[encoded data removed]"
          },
          "metadata": {}
        }
      ]
    },
    {
      "cell_type": "code",
      "source": [
        "# Implement the Pearson and Spearman correlation coefficients for a dataset.\n",
        "\n",
        "import numpy as np\n",
        "import pandas as pd\n",
        "from scipy.stats import pearsonr, spearmanr\n",
        "\n",
        "# Sample dataset (two variables)\n",
        "np.random.seed(42)\n",
        "X = np.random.randint(10, 50, 100)  # Feature X\n",
        "Y = X * 2 + np.random.normal(0, 5, 100)  # Feature Y (with some noise)\n",
        "\n",
        "# Convert to Pandas DataFrame\n",
        "df = pd.DataFrame({'X': X, 'Y': Y})\n",
        "\n",
        "# Compute Pearson correlation\n",
        "pearson_corr, _ = pearsonr(df['X'], df['Y'])\n",
        "\n",
        "# Compute Spearman correlation\n",
        "spearman_corr, _ = spearmanr(df['X'], df['Y'])\n",
        "\n",
        "print(f\"Pearson Correlation: {pearson_corr:.2f}\")\n",
        "print(f\"Spearman Correlation: {spearman_corr:.2f}\")"
      ],
      "metadata": {
        "colab": {
          "base_uri": "https://localhost:8080/"
        },
        "id": "A0KbrkNkJJBt",
        "outputId": "46a97013-2f90-4e6f-bced-b535bc100ad5"
      },
      "execution_count": 34,
      "outputs": [
        {
          "output_type": "stream",
          "name": "stdout",
          "text": [
            "Pearson Correlation: 0.98\n",
            "Spearman Correlation: 0.98\n"
          ]
        }
      ]
    }
  ]
}